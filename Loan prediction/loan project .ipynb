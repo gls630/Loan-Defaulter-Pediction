{
 "cells": [
  {
   "cell_type": "code",
   "execution_count": 1,
   "metadata": {
    "_cell_guid": "b1076dfc-b9ad-4769-8c92-a6c4dae69d19",
    "_uuid": "8f2839f25d086af736a60e9eeb907d3b93b6e0e5",
    "execution": {
     "iopub.execute_input": "2021-11-16T14:40:57.001275Z",
     "iopub.status.busy": "2021-11-16T14:40:57.000825Z",
     "iopub.status.idle": "2021-11-16T14:40:57.045891Z",
     "shell.execute_reply": "2021-11-16T14:40:57.045143Z",
     "shell.execute_reply.started": "2021-11-16T14:40:57.001165Z"
    }
   },
   "outputs": [],
   "source": [
    "import numpy as np \n",
    "import pandas as pd "
   ]
  },
  {
   "cell_type": "code",
   "execution_count": 2,
   "metadata": {
    "execution": {
     "iopub.execute_input": "2021-11-16T14:40:57.049005Z",
     "iopub.status.busy": "2021-11-16T14:40:57.048706Z",
     "iopub.status.idle": "2021-11-16T14:40:57.865170Z",
     "shell.execute_reply": "2021-11-16T14:40:57.864088Z",
     "shell.execute_reply.started": "2021-11-16T14:40:57.048975Z"
    }
   },
   "outputs": [
    {
     "data": {
      "text/html": [
       "<div>\n",
       "<style scoped>\n",
       "    .dataframe tbody tr th:only-of-type {\n",
       "        vertical-align: middle;\n",
       "    }\n",
       "\n",
       "    .dataframe tbody tr th {\n",
       "        vertical-align: top;\n",
       "    }\n",
       "\n",
       "    .dataframe thead th {\n",
       "        text-align: right;\n",
       "    }\n",
       "</style>\n",
       "<table border=\"1\" class=\"dataframe\">\n",
       "  <thead>\n",
       "    <tr style=\"text-align: right;\">\n",
       "      <th></th>\n",
       "      <th>Id</th>\n",
       "      <th>Income</th>\n",
       "      <th>Age</th>\n",
       "      <th>Experience</th>\n",
       "      <th>Married/Single</th>\n",
       "      <th>House_Ownership</th>\n",
       "      <th>Car_Ownership</th>\n",
       "      <th>Profession</th>\n",
       "      <th>CITY</th>\n",
       "      <th>STATE</th>\n",
       "      <th>CURRENT_JOB_YRS</th>\n",
       "      <th>CURRENT_HOUSE_YRS</th>\n",
       "      <th>Risk_Flag</th>\n",
       "    </tr>\n",
       "  </thead>\n",
       "  <tbody>\n",
       "    <tr>\n",
       "      <th>0</th>\n",
       "      <td>1</td>\n",
       "      <td>1303834</td>\n",
       "      <td>23</td>\n",
       "      <td>3</td>\n",
       "      <td>single</td>\n",
       "      <td>rented</td>\n",
       "      <td>no</td>\n",
       "      <td>Mechanical_engineer</td>\n",
       "      <td>Rewa</td>\n",
       "      <td>Madhya_Pradesh</td>\n",
       "      <td>3</td>\n",
       "      <td>13</td>\n",
       "      <td>0</td>\n",
       "    </tr>\n",
       "    <tr>\n",
       "      <th>1</th>\n",
       "      <td>2</td>\n",
       "      <td>7574516</td>\n",
       "      <td>40</td>\n",
       "      <td>10</td>\n",
       "      <td>single</td>\n",
       "      <td>rented</td>\n",
       "      <td>no</td>\n",
       "      <td>Software_Developer</td>\n",
       "      <td>Parbhani</td>\n",
       "      <td>Maharashtra</td>\n",
       "      <td>9</td>\n",
       "      <td>13</td>\n",
       "      <td>0</td>\n",
       "    </tr>\n",
       "    <tr>\n",
       "      <th>2</th>\n",
       "      <td>3</td>\n",
       "      <td>3991815</td>\n",
       "      <td>66</td>\n",
       "      <td>4</td>\n",
       "      <td>married</td>\n",
       "      <td>rented</td>\n",
       "      <td>no</td>\n",
       "      <td>Technical_writer</td>\n",
       "      <td>Alappuzha</td>\n",
       "      <td>Kerala</td>\n",
       "      <td>4</td>\n",
       "      <td>10</td>\n",
       "      <td>0</td>\n",
       "    </tr>\n",
       "    <tr>\n",
       "      <th>3</th>\n",
       "      <td>4</td>\n",
       "      <td>6256451</td>\n",
       "      <td>41</td>\n",
       "      <td>2</td>\n",
       "      <td>single</td>\n",
       "      <td>rented</td>\n",
       "      <td>yes</td>\n",
       "      <td>Software_Developer</td>\n",
       "      <td>Bhubaneswar</td>\n",
       "      <td>Odisha</td>\n",
       "      <td>2</td>\n",
       "      <td>12</td>\n",
       "      <td>1</td>\n",
       "    </tr>\n",
       "    <tr>\n",
       "      <th>4</th>\n",
       "      <td>5</td>\n",
       "      <td>5768871</td>\n",
       "      <td>47</td>\n",
       "      <td>11</td>\n",
       "      <td>single</td>\n",
       "      <td>rented</td>\n",
       "      <td>no</td>\n",
       "      <td>Civil_servant</td>\n",
       "      <td>Tiruchirappalli[10]</td>\n",
       "      <td>Tamil_Nadu</td>\n",
       "      <td>3</td>\n",
       "      <td>14</td>\n",
       "      <td>1</td>\n",
       "    </tr>\n",
       "    <tr>\n",
       "      <th>...</th>\n",
       "      <td>...</td>\n",
       "      <td>...</td>\n",
       "      <td>...</td>\n",
       "      <td>...</td>\n",
       "      <td>...</td>\n",
       "      <td>...</td>\n",
       "      <td>...</td>\n",
       "      <td>...</td>\n",
       "      <td>...</td>\n",
       "      <td>...</td>\n",
       "      <td>...</td>\n",
       "      <td>...</td>\n",
       "      <td>...</td>\n",
       "    </tr>\n",
       "    <tr>\n",
       "      <th>251995</th>\n",
       "      <td>251996</td>\n",
       "      <td>8154883</td>\n",
       "      <td>43</td>\n",
       "      <td>13</td>\n",
       "      <td>single</td>\n",
       "      <td>rented</td>\n",
       "      <td>no</td>\n",
       "      <td>Surgeon</td>\n",
       "      <td>Kolkata</td>\n",
       "      <td>West_Bengal</td>\n",
       "      <td>6</td>\n",
       "      <td>11</td>\n",
       "      <td>0</td>\n",
       "    </tr>\n",
       "    <tr>\n",
       "      <th>251996</th>\n",
       "      <td>251997</td>\n",
       "      <td>2843572</td>\n",
       "      <td>26</td>\n",
       "      <td>10</td>\n",
       "      <td>single</td>\n",
       "      <td>rented</td>\n",
       "      <td>no</td>\n",
       "      <td>Army_officer</td>\n",
       "      <td>Rewa</td>\n",
       "      <td>Madhya_Pradesh</td>\n",
       "      <td>6</td>\n",
       "      <td>11</td>\n",
       "      <td>0</td>\n",
       "    </tr>\n",
       "    <tr>\n",
       "      <th>251997</th>\n",
       "      <td>251998</td>\n",
       "      <td>4522448</td>\n",
       "      <td>46</td>\n",
       "      <td>7</td>\n",
       "      <td>single</td>\n",
       "      <td>rented</td>\n",
       "      <td>no</td>\n",
       "      <td>Design_Engineer</td>\n",
       "      <td>Kalyan-Dombivli</td>\n",
       "      <td>Maharashtra</td>\n",
       "      <td>7</td>\n",
       "      <td>12</td>\n",
       "      <td>0</td>\n",
       "    </tr>\n",
       "    <tr>\n",
       "      <th>251998</th>\n",
       "      <td>251999</td>\n",
       "      <td>6507128</td>\n",
       "      <td>45</td>\n",
       "      <td>0</td>\n",
       "      <td>single</td>\n",
       "      <td>rented</td>\n",
       "      <td>no</td>\n",
       "      <td>Graphic_Designer</td>\n",
       "      <td>Pondicherry</td>\n",
       "      <td>Puducherry</td>\n",
       "      <td>0</td>\n",
       "      <td>10</td>\n",
       "      <td>0</td>\n",
       "    </tr>\n",
       "    <tr>\n",
       "      <th>251999</th>\n",
       "      <td>252000</td>\n",
       "      <td>9070230</td>\n",
       "      <td>70</td>\n",
       "      <td>17</td>\n",
       "      <td>single</td>\n",
       "      <td>rented</td>\n",
       "      <td>no</td>\n",
       "      <td>Statistician</td>\n",
       "      <td>Avadi</td>\n",
       "      <td>Tamil_Nadu</td>\n",
       "      <td>7</td>\n",
       "      <td>11</td>\n",
       "      <td>0</td>\n",
       "    </tr>\n",
       "  </tbody>\n",
       "</table>\n",
       "<p>252000 rows × 13 columns</p>\n",
       "</div>"
      ],
      "text/plain": [
       "            Id   Income  Age  Experience Married/Single House_Ownership  \\\n",
       "0            1  1303834   23           3         single          rented   \n",
       "1            2  7574516   40          10         single          rented   \n",
       "2            3  3991815   66           4        married          rented   \n",
       "3            4  6256451   41           2         single          rented   \n",
       "4            5  5768871   47          11         single          rented   \n",
       "...        ...      ...  ...         ...            ...             ...   \n",
       "251995  251996  8154883   43          13         single          rented   \n",
       "251996  251997  2843572   26          10         single          rented   \n",
       "251997  251998  4522448   46           7         single          rented   \n",
       "251998  251999  6507128   45           0         single          rented   \n",
       "251999  252000  9070230   70          17         single          rented   \n",
       "\n",
       "       Car_Ownership           Profession                 CITY  \\\n",
       "0                 no  Mechanical_engineer                 Rewa   \n",
       "1                 no   Software_Developer             Parbhani   \n",
       "2                 no     Technical_writer            Alappuzha   \n",
       "3                yes   Software_Developer          Bhubaneswar   \n",
       "4                 no        Civil_servant  Tiruchirappalli[10]   \n",
       "...              ...                  ...                  ...   \n",
       "251995            no              Surgeon              Kolkata   \n",
       "251996            no         Army_officer                 Rewa   \n",
       "251997            no      Design_Engineer      Kalyan-Dombivli   \n",
       "251998            no     Graphic_Designer          Pondicherry   \n",
       "251999            no         Statistician                Avadi   \n",
       "\n",
       "                 STATE  CURRENT_JOB_YRS  CURRENT_HOUSE_YRS  Risk_Flag  \n",
       "0       Madhya_Pradesh                3                 13          0  \n",
       "1          Maharashtra                9                 13          0  \n",
       "2               Kerala                4                 10          0  \n",
       "3               Odisha                2                 12          1  \n",
       "4           Tamil_Nadu                3                 14          1  \n",
       "...                ...              ...                ...        ...  \n",
       "251995     West_Bengal                6                 11          0  \n",
       "251996  Madhya_Pradesh                6                 11          0  \n",
       "251997     Maharashtra                7                 12          0  \n",
       "251998      Puducherry                0                 10          0  \n",
       "251999      Tamil_Nadu                7                 11          0  \n",
       "\n",
       "[252000 rows x 13 columns]"
      ]
     },
     "execution_count": 2,
     "metadata": {},
     "output_type": "execute_result"
    }
   ],
   "source": [
    "df=pd.read_csv('Training Data.csv/Training Data.csv')\n",
    "df"
   ]
  },
  {
   "cell_type": "code",
   "execution_count": 3,
   "metadata": {
    "execution": {
     "iopub.execute_input": "2021-11-16T14:40:57.867206Z",
     "iopub.status.busy": "2021-11-16T14:40:57.866939Z",
     "iopub.status.idle": "2021-11-16T14:40:57.882842Z",
     "shell.execute_reply": "2021-11-16T14:40:57.881778Z",
     "shell.execute_reply.started": "2021-11-16T14:40:57.867169Z"
    }
   },
   "outputs": [
    {
     "data": {
      "text/plain": [
       "0    221004\n",
       "1     30996\n",
       "Name: Risk_Flag, dtype: int64"
      ]
     },
     "execution_count": 3,
     "metadata": {},
     "output_type": "execute_result"
    }
   ],
   "source": [
    "df.Risk_Flag.value_counts()"
   ]
  },
  {
   "cell_type": "code",
   "execution_count": 4,
   "metadata": {
    "execution": {
     "iopub.execute_input": "2021-11-16T14:40:57.887289Z",
     "iopub.status.busy": "2021-11-16T14:40:57.886947Z",
     "iopub.status.idle": "2021-11-16T14:40:57.939323Z",
     "shell.execute_reply": "2021-11-16T14:40:57.938155Z",
     "shell.execute_reply.started": "2021-11-16T14:40:57.887254Z"
    }
   },
   "outputs": [
    {
     "data": {
      "text/plain": [
       "Physician                     5957\n",
       "Statistician                  5806\n",
       "Web_designer                  5397\n",
       "Psychologist                  5390\n",
       "Computer_hardware_engineer    5372\n",
       "Drafter                       5359\n",
       "Magistrate                    5357\n",
       "Fashion_Designer              5304\n",
       "Air_traffic_controller        5281\n",
       "Comedian                      5259\n",
       "Industrial_Engineer           5250\n",
       "Mechanical_engineer           5217\n",
       "Chemical_engineer             5205\n",
       "Technical_writer              5195\n",
       "Hotel_Manager                 5178\n",
       "Financial_Analyst             5167\n",
       "Graphic_Designer              5166\n",
       "Flight_attendant              5128\n",
       "Biomedical_Engineer           5127\n",
       "Secretary                     5061\n",
       "Software_Developer            5053\n",
       "Petroleum_Engineer            5041\n",
       "Police_officer                5035\n",
       "Computer_operator             4990\n",
       "Politician                    4944\n",
       "Microbiologist                4881\n",
       "Technician                    4864\n",
       "Artist                        4861\n",
       "Lawyer                        4818\n",
       "Consultant                    4808\n",
       "Dentist                       4782\n",
       "Scientist                     4781\n",
       "Surgeon                       4772\n",
       "Aviator                       4758\n",
       "Technology_specialist         4737\n",
       "Design_Engineer               4729\n",
       "Surveyor                      4714\n",
       "Geologist                     4672\n",
       "Analyst                       4668\n",
       "Army_officer                  4661\n",
       "Architect                     4657\n",
       "Chef                          4635\n",
       "Librarian                     4628\n",
       "Civil_engineer                4616\n",
       "Designer                      4598\n",
       "Economist                     4573\n",
       "Firefighter                   4507\n",
       "Chartered_Accountant          4493\n",
       "Civil_servant                 4413\n",
       "Official                      4087\n",
       "Engineer                      4048\n",
       "Name: Profession, dtype: int64"
      ]
     },
     "execution_count": 4,
     "metadata": {},
     "output_type": "execute_result"
    }
   ],
   "source": [
    "df.Profession.value_counts()"
   ]
  },
  {
   "cell_type": "code",
   "execution_count": 5,
   "metadata": {
    "execution": {
     "iopub.execute_input": "2021-11-16T14:40:57.941362Z",
     "iopub.status.busy": "2021-11-16T14:40:57.941106Z",
     "iopub.status.idle": "2021-11-16T14:40:57.993517Z",
     "shell.execute_reply": "2021-11-16T14:40:57.992840Z",
     "shell.execute_reply.started": "2021-11-16T14:40:57.941333Z"
    }
   },
   "outputs": [
    {
     "data": {
      "text/plain": [
       "Vijayanagaram       1259\n",
       "Bhopal              1208\n",
       "Bulandshahr         1185\n",
       "Saharsa[29]         1180\n",
       "Vijayawada          1172\n",
       "                    ... \n",
       "Ujjain               486\n",
       "Warangal[11][12]     459\n",
       "Bettiah[33]          457\n",
       "Katni                448\n",
       "Karaikudi            431\n",
       "Name: CITY, Length: 317, dtype: int64"
      ]
     },
     "execution_count": 5,
     "metadata": {},
     "output_type": "execute_result"
    }
   ],
   "source": [
    "df.CITY.value_counts()"
   ]
  },
  {
   "cell_type": "code",
   "execution_count": 6,
   "metadata": {
    "execution": {
     "iopub.execute_input": "2021-11-16T14:40:57.996296Z",
     "iopub.status.busy": "2021-11-16T14:40:57.995142Z",
     "iopub.status.idle": "2021-11-16T14:40:58.049173Z",
     "shell.execute_reply": "2021-11-16T14:40:58.048485Z",
     "shell.execute_reply.started": "2021-11-16T14:40:57.996255Z"
    }
   },
   "outputs": [
    {
     "data": {
      "text/plain": [
       "Uttar_Pradesh        28400\n",
       "Maharashtra          25562\n",
       "Andhra_Pradesh       25297\n",
       "West_Bengal          23483\n",
       "Bihar                19780\n",
       "Tamil_Nadu           16537\n",
       "Madhya_Pradesh       14122\n",
       "Karnataka            11855\n",
       "Gujarat              11408\n",
       "Rajasthan             9174\n",
       "Jharkhand             8965\n",
       "Haryana               7890\n",
       "Telangana             7524\n",
       "Assam                 7062\n",
       "Kerala                5805\n",
       "Delhi                 5490\n",
       "Punjab                4720\n",
       "Odisha                4658\n",
       "Chhattisgarh          3834\n",
       "Uttarakhand           1874\n",
       "Jammu_and_Kashmir     1780\n",
       "Puducherry            1433\n",
       "Mizoram                849\n",
       "Manipur                849\n",
       "Himachal_Pradesh       833\n",
       "Tripura                809\n",
       "Uttar_Pradesh[5]       743\n",
       "Chandigarh             656\n",
       "Sikkim                 608\n",
       "Name: STATE, dtype: int64"
      ]
     },
     "execution_count": 6,
     "metadata": {},
     "output_type": "execute_result"
    }
   ],
   "source": [
    "df.STATE.value_counts()"
   ]
  },
  {
   "cell_type": "code",
   "execution_count": 7,
   "metadata": {},
   "outputs": [
    {
     "data": {
      "text/plain": [
       "rented          231898\n",
       "owned            12918\n",
       "norent_noown      7184\n",
       "Name: House_Ownership, dtype: int64"
      ]
     },
     "execution_count": 7,
     "metadata": {},
     "output_type": "execute_result"
    }
   ],
   "source": [
    "df.House_Ownership.value_counts()"
   ]
  },
  {
   "cell_type": "code",
   "execution_count": 8,
   "metadata": {},
   "outputs": [
    {
     "data": {
      "text/plain": [
       "no     176000\n",
       "yes     76000\n",
       "Name: Car_Ownership, dtype: int64"
      ]
     },
     "execution_count": 8,
     "metadata": {},
     "output_type": "execute_result"
    }
   ],
   "source": [
    "df.Car_Ownership.value_counts()"
   ]
  },
  {
   "cell_type": "markdown",
   "metadata": {},
   "source": [
    "# Imbalanced target Data - Risk_Flag"
   ]
  },
  {
   "cell_type": "code",
   "execution_count": 9,
   "metadata": {
    "execution": {
     "iopub.execute_input": "2021-11-16T14:40:58.051150Z",
     "iopub.status.busy": "2021-11-16T14:40:58.050390Z",
     "iopub.status.idle": "2021-11-16T14:40:58.242580Z",
     "shell.execute_reply": "2021-11-16T14:40:58.241731Z",
     "shell.execute_reply.started": "2021-11-16T14:40:58.051111Z"
    }
   },
   "outputs": [
    {
     "name": "stdout",
     "output_type": "stream",
     "text": [
      "<class 'pandas.core.frame.DataFrame'>\n",
      "RangeIndex: 252000 entries, 0 to 251999\n",
      "Data columns (total 13 columns):\n",
      " #   Column             Non-Null Count   Dtype \n",
      "---  ------             --------------   ----- \n",
      " 0   Id                 252000 non-null  int64 \n",
      " 1   Income             252000 non-null  int64 \n",
      " 2   Age                252000 non-null  int64 \n",
      " 3   Experience         252000 non-null  int64 \n",
      " 4   Married/Single     252000 non-null  object\n",
      " 5   House_Ownership    252000 non-null  object\n",
      " 6   Car_Ownership      252000 non-null  object\n",
      " 7   Profession         252000 non-null  object\n",
      " 8   CITY               252000 non-null  object\n",
      " 9   STATE              252000 non-null  object\n",
      " 10  CURRENT_JOB_YRS    252000 non-null  int64 \n",
      " 11  CURRENT_HOUSE_YRS  252000 non-null  int64 \n",
      " 12  Risk_Flag          252000 non-null  int64 \n",
      "dtypes: int64(7), object(6)\n",
      "memory usage: 25.0+ MB\n"
     ]
    }
   ],
   "source": [
    "df.info()"
   ]
  },
  {
   "cell_type": "code",
   "execution_count": 10,
   "metadata": {
    "execution": {
     "iopub.execute_input": "2021-11-16T14:40:58.244577Z",
     "iopub.status.busy": "2021-11-16T14:40:58.243838Z",
     "iopub.status.idle": "2021-11-16T14:41:00.016079Z",
     "shell.execute_reply": "2021-11-16T14:41:00.015081Z",
     "shell.execute_reply.started": "2021-11-16T14:40:58.244527Z"
    }
   },
   "outputs": [
    {
     "data": {
      "text/plain": [
       "<AxesSubplot:>"
      ]
     },
     "execution_count": 10,
     "metadata": {},
     "output_type": "execute_result"
    },
    {
     "data": {
      "image/png": "[encoded data removed]",
      "text/plain": [
       "<Figure size 432x288 with 2 Axes>"
      ]
     },
     "metadata": {
      "needs_background": "light"
     },
     "output_type": "display_data"
    }
   ],
   "source": [
    "\n",
    "\n",
    "\n",
    "\n",
    "\n",
    "import seaborn as sns\n",
    "sns.heatmap(df.corr(),annot = True)"
   ]
  },
  {
   "cell_type": "code",
   "execution_count": 11,
   "metadata": {
    "execution": {
     "iopub.execute_input": "2021-11-16T14:41:00.018090Z",
     "iopub.status.busy": "2021-11-16T14:41:00.017813Z",
     "iopub.status.idle": "2021-11-16T14:41:00.466418Z",
     "shell.execute_reply": "2021-11-16T14:41:00.465380Z",
     "shell.execute_reply.started": "2021-11-16T14:41:00.018031Z"
    }
   },
   "outputs": [],
   "source": [
    "from sklearn.preprocessing import LabelEncoder\n",
    "LE=LabelEncoder()\n",
    "df['Car_Ownership']=LE.fit_transform(df['Car_Ownership'])\n",
    "df['Married/Single']=LE.fit_transform(df['Married/Single'])\n",
    "df['House_Ownership']=LE.fit_transform(df['House_Ownership'])"
   ]
  },
  {
   "cell_type": "code",
   "execution_count": 12,
   "metadata": {
    "execution": {
     "iopub.execute_input": "2021-11-16T14:41:00.470019Z",
     "iopub.status.busy": "2021-11-16T14:41:00.469743Z",
     "iopub.status.idle": "2021-11-16T14:41:00.601696Z",
     "shell.execute_reply": "2021-11-16T14:41:00.600856Z",
     "shell.execute_reply.started": "2021-11-16T14:41:00.469986Z"
    }
   },
   "outputs": [
    {
     "data": {
      "text/plain": [
       "Id                   0.032153\n",
       "Income              -0.003091\n",
       "Age                 -0.021809\n",
       "Experience          -0.034523\n",
       "Married/Single       0.021092\n",
       "House_Ownership      0.023622\n",
       "Car_Ownership       -0.024036\n",
       "CURRENT_JOB_YRS     -0.016942\n",
       "CURRENT_HOUSE_YRS   -0.004375\n",
       "Risk_Flag            1.000000\n",
       "Name: Risk_Flag, dtype: float64"
      ]
     },
     "execution_count": 12,
     "metadata": {},
     "output_type": "execute_result"
    }
   ],
   "source": [
    "df.corr()['Risk_Flag']"
   ]
  },
  {
   "cell_type": "code",
   "execution_count": 13,
   "metadata": {
    "execution": {
     "iopub.execute_input": "2021-11-16T14:41:00.603661Z",
     "iopub.status.busy": "2021-11-16T14:41:00.603356Z",
     "iopub.status.idle": "2021-11-16T14:41:44.674734Z",
     "shell.execute_reply": "2021-11-16T14:41:44.673804Z",
     "shell.execute_reply.started": "2021-11-16T14:41:00.603628Z"
    }
   },
   "outputs": [],
   "source": [
    "location_count=df.CITY.value_counts()\n",
    "\n",
    "df['CITY']=df['CITY'].apply(lambda x: 'other' if x in location_count[location_count<=1000] else x )"
   ]
  },
  {
   "cell_type": "code",
   "execution_count": 14,
   "metadata": {},
   "outputs": [
    {
     "data": {
      "text/plain": [
       "other            220635\n",
       "Vijayanagaram      1259\n",
       "Bhopal             1208\n",
       "Bulandshahr        1185\n",
       "Saharsa[29]        1180\n",
       "Vijayawada         1172\n",
       "Srinagar           1136\n",
       "Indore             1130\n",
       "Hajipur[31]        1098\n",
       "New_Delhi          1098\n",
       "Satara             1096\n",
       "Navi_Mumbai        1084\n",
       "Jorhat             1079\n",
       "Ongole             1067\n",
       "Bellary            1065\n",
       "Erode[17]          1064\n",
       "Giridih            1064\n",
       "Hospet             1058\n",
       "Jodhpur            1056\n",
       "Khammam            1051\n",
       "Danapur            1037\n",
       "Bareilly           1036\n",
       "Kolkata            1033\n",
       "Bidhannagar        1033\n",
       "Satna              1028\n",
       "Howrah             1016\n",
       "Mango              1016\n",
       "Agra               1012\n",
       "Thanjavur          1003\n",
       "Haridwar           1001\n",
       "Name: CITY, dtype: int64"
      ]
     },
     "execution_count": 14,
     "metadata": {},
     "output_type": "execute_result"
    }
   ],
   "source": [
    "df.CITY.value_counts()"
   ]
  },
  {
   "cell_type": "markdown",
   "metadata": {},
   "source": [
    "*We are having city so we can skip the state feature*"
   ]
  },
  {
   "cell_type": "code",
   "execution_count": 15,
   "metadata": {
    "execution": {
     "iopub.execute_input": "2021-11-16T14:41:44.676392Z",
     "iopub.status.busy": "2021-11-16T14:41:44.676086Z",
     "iopub.status.idle": "2021-11-16T14:41:44.718078Z",
     "shell.execute_reply": "2021-11-16T14:41:44.717008Z",
     "shell.execute_reply.started": "2021-11-16T14:41:44.676360Z"
    }
   },
   "outputs": [],
   "source": [
    "df=df.drop(columns=['STATE'])"
   ]
  },
  {
   "cell_type": "code",
   "execution_count": 16,
   "metadata": {
    "execution": {
     "iopub.execute_input": "2021-11-16T14:41:44.720294Z",
     "iopub.status.busy": "2021-11-16T14:41:44.719698Z",
     "iopub.status.idle": "2021-11-16T14:41:45.220088Z",
     "shell.execute_reply": "2021-11-16T14:41:45.219096Z",
     "shell.execute_reply.started": "2021-11-16T14:41:44.720251Z"
    }
   },
   "outputs": [],
   "source": [
    "\n",
    "dummies = pd.get_dummies(df['CITY'])\n",
    "df = pd.concat([df,dummies], axis='columns')\n",
    "df.drop('CITY', axis=1, inplace=True)"
   ]
  },
  {
   "cell_type": "code",
   "execution_count": 17,
   "metadata": {},
   "outputs": [
    {
     "data": {
      "text/plain": [
       "(252000, 41)"
      ]
     },
     "execution_count": 17,
     "metadata": {},
     "output_type": "execute_result"
    }
   ],
   "source": [
    "df.shape"
   ]
  },
  {
   "cell_type": "code",
   "execution_count": 18,
   "metadata": {
    "execution": {
     "iopub.execute_input": "2021-11-16T14:41:45.222256Z",
     "iopub.status.busy": "2021-11-16T14:41:45.221647Z",
     "iopub.status.idle": "2021-11-16T14:41:45.589368Z",
     "shell.execute_reply": "2021-11-16T14:41:45.588313Z",
     "shell.execute_reply.started": "2021-11-16T14:41:45.222197Z"
    }
   },
   "outputs": [],
   "source": [
    "\n",
    "dummies = pd.get_dummies(df['Profession'])\n",
    "df = pd.concat([df,dummies], axis='columns')\n",
    "df.drop('Profession', axis=1, inplace=True)"
   ]
  },
  {
   "cell_type": "code",
   "execution_count": 19,
   "metadata": {},
   "outputs": [
    {
     "data": {
      "text/plain": [
       "(252000, 91)"
      ]
     },
     "execution_count": 19,
     "metadata": {},
     "output_type": "execute_result"
    }
   ],
   "source": [
    "df.shape"
   ]
  },
  {
   "cell_type": "code",
   "execution_count": null,
   "metadata": {},
   "outputs": [],
   "source": []
  },
  {
   "cell_type": "code",
   "execution_count": 20,
   "metadata": {
    "execution": {
     "iopub.execute_input": "2021-11-16T14:41:45.590980Z",
     "iopub.status.busy": "2021-11-16T14:41:45.590753Z",
     "iopub.status.idle": "2021-11-16T14:41:45.859465Z",
     "shell.execute_reply": "2021-11-16T14:41:45.858383Z",
     "shell.execute_reply.started": "2021-11-16T14:41:45.590951Z"
    }
   },
   "outputs": [],
   "source": [
    "df=df.drop(columns=['Id'])\n",
    "df = df.rename({'Married/Single': 'marraige'}, axis=1)"
   ]
  },
  {
   "cell_type": "code",
   "execution_count": 21,
   "metadata": {
    "execution": {
     "iopub.execute_input": "2021-11-16T14:41:45.860934Z",
     "iopub.status.busy": "2021-11-16T14:41:45.860705Z",
     "iopub.status.idle": "2021-11-16T14:41:46.032094Z",
     "shell.execute_reply": "2021-11-16T14:41:46.030798Z",
     "shell.execute_reply.started": "2021-11-16T14:41:45.860907Z"
    }
   },
   "outputs": [],
   "source": [
    "X=df.drop(columns=['Risk_Flag'])\n",
    "Y=df.Risk_Flag"
   ]
  },
  {
   "cell_type": "code",
   "execution_count": 22,
   "metadata": {
    "execution": {
     "iopub.execute_input": "2021-11-16T14:41:46.567674Z",
     "iopub.status.busy": "2021-11-16T14:41:46.567317Z",
     "iopub.status.idle": "2021-11-16T14:41:47.416474Z",
     "shell.execute_reply": "2021-11-16T14:41:47.415540Z",
     "shell.execute_reply.started": "2021-11-16T14:41:46.567625Z"
    }
   },
   "outputs": [
    {
     "data": {
      "text/plain": [
       "0    221004\n",
       "1    221004\n",
       "Name: Risk_Flag, dtype: int64"
      ]
     },
     "execution_count": 22,
     "metadata": {},
     "output_type": "execute_result"
    }
   ],
   "source": [
    "from sklearn.utils import resample\n",
    "\n",
    "\n",
    "\n",
    "concat = pd.concat([X,Y], axis=1)\n",
    "\n",
    "\n",
    "no_risk = concat[concat.Risk_Flag==0]\n",
    "risk = concat[concat.Risk_Flag==1]\n",
    "\n",
    "\n",
    "risk_upsampled = resample(risk,\n",
    "                          replace=True,\n",
    "                          n_samples=len(no_risk), \n",
    "                          random_state=27) \n",
    "\n",
    "\n",
    "upsampled = pd.concat([no_risk, risk_upsampled])\n",
    "\n",
    "\n",
    "upsampled.Risk_Flag.value_counts()"
   ]
  },
  {
   "cell_type": "code",
   "execution_count": 23,
   "metadata": {
    "execution": {
     "iopub.execute_input": "2021-11-16T14:41:47.418174Z",
     "iopub.status.busy": "2021-11-16T14:41:47.417906Z",
     "iopub.status.idle": "2021-11-16T14:41:47.825279Z",
     "shell.execute_reply": "2021-11-16T14:41:47.824133Z",
     "shell.execute_reply.started": "2021-11-16T14:41:47.418139Z"
    }
   },
   "outputs": [
    {
     "data": {
      "text/html": [
       "<div>\n",
       "<style scoped>\n",
       "    .dataframe tbody tr th:only-of-type {\n",
       "        vertical-align: middle;\n",
       "    }\n",
       "\n",
       "    .dataframe tbody tr th {\n",
       "        vertical-align: top;\n",
       "    }\n",
       "\n",
       "    .dataframe thead th {\n",
       "        text-align: right;\n",
       "    }\n",
       "</style>\n",
       "<table border=\"1\" class=\"dataframe\">\n",
       "  <thead>\n",
       "    <tr style=\"text-align: right;\">\n",
       "      <th></th>\n",
       "      <th>Income</th>\n",
       "      <th>Age</th>\n",
       "      <th>Experience</th>\n",
       "      <th>marraige</th>\n",
       "      <th>House_Ownership</th>\n",
       "      <th>Car_Ownership</th>\n",
       "      <th>CURRENT_JOB_YRS</th>\n",
       "      <th>CURRENT_HOUSE_YRS</th>\n",
       "      <th>Agra</th>\n",
       "      <th>Bareilly</th>\n",
       "      <th>...</th>\n",
       "      <th>Scientist</th>\n",
       "      <th>Secretary</th>\n",
       "      <th>Software_Developer</th>\n",
       "      <th>Statistician</th>\n",
       "      <th>Surgeon</th>\n",
       "      <th>Surveyor</th>\n",
       "      <th>Technical_writer</th>\n",
       "      <th>Technician</th>\n",
       "      <th>Technology_specialist</th>\n",
       "      <th>Web_designer</th>\n",
       "    </tr>\n",
       "  </thead>\n",
       "  <tbody>\n",
       "    <tr>\n",
       "      <th>0</th>\n",
       "      <td>1303834</td>\n",
       "      <td>23</td>\n",
       "      <td>3</td>\n",
       "      <td>1</td>\n",
       "      <td>2</td>\n",
       "      <td>0</td>\n",
       "      <td>3</td>\n",
       "      <td>13</td>\n",
       "      <td>0</td>\n",
       "      <td>0</td>\n",
       "      <td>...</td>\n",
       "      <td>0</td>\n",
       "      <td>0</td>\n",
       "      <td>0</td>\n",
       "      <td>0</td>\n",
       "      <td>0</td>\n",
       "      <td>0</td>\n",
       "      <td>0</td>\n",
       "      <td>0</td>\n",
       "      <td>0</td>\n",
       "      <td>0</td>\n",
       "    </tr>\n",
       "    <tr>\n",
       "      <th>1</th>\n",
       "      <td>7574516</td>\n",
       "      <td>40</td>\n",
       "      <td>10</td>\n",
       "      <td>1</td>\n",
       "      <td>2</td>\n",
       "      <td>0</td>\n",
       "      <td>9</td>\n",
       "      <td>13</td>\n",
       "      <td>0</td>\n",
       "      <td>0</td>\n",
       "      <td>...</td>\n",
       "      <td>0</td>\n",
       "      <td>0</td>\n",
       "      <td>1</td>\n",
       "      <td>0</td>\n",
       "      <td>0</td>\n",
       "      <td>0</td>\n",
       "      <td>0</td>\n",
       "      <td>0</td>\n",
       "      <td>0</td>\n",
       "      <td>0</td>\n",
       "    </tr>\n",
       "    <tr>\n",
       "      <th>2</th>\n",
       "      <td>3991815</td>\n",
       "      <td>66</td>\n",
       "      <td>4</td>\n",
       "      <td>0</td>\n",
       "      <td>2</td>\n",
       "      <td>0</td>\n",
       "      <td>4</td>\n",
       "      <td>10</td>\n",
       "      <td>0</td>\n",
       "      <td>0</td>\n",
       "      <td>...</td>\n",
       "      <td>0</td>\n",
       "      <td>0</td>\n",
       "      <td>0</td>\n",
       "      <td>0</td>\n",
       "      <td>0</td>\n",
       "      <td>0</td>\n",
       "      <td>1</td>\n",
       "      <td>0</td>\n",
       "      <td>0</td>\n",
       "      <td>0</td>\n",
       "    </tr>\n",
       "    <tr>\n",
       "      <th>5</th>\n",
       "      <td>6915937</td>\n",
       "      <td>64</td>\n",
       "      <td>0</td>\n",
       "      <td>1</td>\n",
       "      <td>2</td>\n",
       "      <td>0</td>\n",
       "      <td>0</td>\n",
       "      <td>12</td>\n",
       "      <td>0</td>\n",
       "      <td>0</td>\n",
       "      <td>...</td>\n",
       "      <td>0</td>\n",
       "      <td>0</td>\n",
       "      <td>0</td>\n",
       "      <td>0</td>\n",
       "      <td>0</td>\n",
       "      <td>0</td>\n",
       "      <td>0</td>\n",
       "      <td>0</td>\n",
       "      <td>0</td>\n",
       "      <td>0</td>\n",
       "    </tr>\n",
       "    <tr>\n",
       "      <th>6</th>\n",
       "      <td>3954973</td>\n",
       "      <td>58</td>\n",
       "      <td>14</td>\n",
       "      <td>0</td>\n",
       "      <td>2</td>\n",
       "      <td>0</td>\n",
       "      <td>8</td>\n",
       "      <td>12</td>\n",
       "      <td>0</td>\n",
       "      <td>0</td>\n",
       "      <td>...</td>\n",
       "      <td>0</td>\n",
       "      <td>0</td>\n",
       "      <td>0</td>\n",
       "      <td>0</td>\n",
       "      <td>0</td>\n",
       "      <td>0</td>\n",
       "      <td>0</td>\n",
       "      <td>0</td>\n",
       "      <td>0</td>\n",
       "      <td>0</td>\n",
       "    </tr>\n",
       "    <tr>\n",
       "      <th>...</th>\n",
       "      <td>...</td>\n",
       "      <td>...</td>\n",
       "      <td>...</td>\n",
       "      <td>...</td>\n",
       "      <td>...</td>\n",
       "      <td>...</td>\n",
       "      <td>...</td>\n",
       "      <td>...</td>\n",
       "      <td>...</td>\n",
       "      <td>...</td>\n",
       "      <td>...</td>\n",
       "      <td>...</td>\n",
       "      <td>...</td>\n",
       "      <td>...</td>\n",
       "      <td>...</td>\n",
       "      <td>...</td>\n",
       "      <td>...</td>\n",
       "      <td>...</td>\n",
       "      <td>...</td>\n",
       "      <td>...</td>\n",
       "      <td>...</td>\n",
       "    </tr>\n",
       "    <tr>\n",
       "      <th>48978</th>\n",
       "      <td>5628436</td>\n",
       "      <td>48</td>\n",
       "      <td>13</td>\n",
       "      <td>1</td>\n",
       "      <td>2</td>\n",
       "      <td>0</td>\n",
       "      <td>10</td>\n",
       "      <td>10</td>\n",
       "      <td>0</td>\n",
       "      <td>0</td>\n",
       "      <td>...</td>\n",
       "      <td>0</td>\n",
       "      <td>0</td>\n",
       "      <td>0</td>\n",
       "      <td>0</td>\n",
       "      <td>0</td>\n",
       "      <td>0</td>\n",
       "      <td>0</td>\n",
       "      <td>0</td>\n",
       "      <td>0</td>\n",
       "      <td>0</td>\n",
       "    </tr>\n",
       "    <tr>\n",
       "      <th>243845</th>\n",
       "      <td>4294400</td>\n",
       "      <td>57</td>\n",
       "      <td>4</td>\n",
       "      <td>1</td>\n",
       "      <td>2</td>\n",
       "      <td>0</td>\n",
       "      <td>3</td>\n",
       "      <td>12</td>\n",
       "      <td>0</td>\n",
       "      <td>0</td>\n",
       "      <td>...</td>\n",
       "      <td>0</td>\n",
       "      <td>0</td>\n",
       "      <td>0</td>\n",
       "      <td>0</td>\n",
       "      <td>0</td>\n",
       "      <td>0</td>\n",
       "      <td>0</td>\n",
       "      <td>0</td>\n",
       "      <td>0</td>\n",
       "      <td>0</td>\n",
       "    </tr>\n",
       "    <tr>\n",
       "      <th>167333</th>\n",
       "      <td>6868118</td>\n",
       "      <td>25</td>\n",
       "      <td>16</td>\n",
       "      <td>1</td>\n",
       "      <td>2</td>\n",
       "      <td>0</td>\n",
       "      <td>13</td>\n",
       "      <td>13</td>\n",
       "      <td>0</td>\n",
       "      <td>0</td>\n",
       "      <td>...</td>\n",
       "      <td>0</td>\n",
       "      <td>1</td>\n",
       "      <td>0</td>\n",
       "      <td>0</td>\n",
       "      <td>0</td>\n",
       "      <td>0</td>\n",
       "      <td>0</td>\n",
       "      <td>0</td>\n",
       "      <td>0</td>\n",
       "      <td>0</td>\n",
       "    </tr>\n",
       "    <tr>\n",
       "      <th>216578</th>\n",
       "      <td>3524284</td>\n",
       "      <td>35</td>\n",
       "      <td>8</td>\n",
       "      <td>1</td>\n",
       "      <td>2</td>\n",
       "      <td>0</td>\n",
       "      <td>8</td>\n",
       "      <td>10</td>\n",
       "      <td>0</td>\n",
       "      <td>0</td>\n",
       "      <td>...</td>\n",
       "      <td>0</td>\n",
       "      <td>0</td>\n",
       "      <td>0</td>\n",
       "      <td>0</td>\n",
       "      <td>0</td>\n",
       "      <td>0</td>\n",
       "      <td>0</td>\n",
       "      <td>0</td>\n",
       "      <td>1</td>\n",
       "      <td>0</td>\n",
       "    </tr>\n",
       "    <tr>\n",
       "      <th>156771</th>\n",
       "      <td>6715263</td>\n",
       "      <td>29</td>\n",
       "      <td>0</td>\n",
       "      <td>1</td>\n",
       "      <td>2</td>\n",
       "      <td>0</td>\n",
       "      <td>0</td>\n",
       "      <td>11</td>\n",
       "      <td>0</td>\n",
       "      <td>0</td>\n",
       "      <td>...</td>\n",
       "      <td>0</td>\n",
       "      <td>0</td>\n",
       "      <td>0</td>\n",
       "      <td>0</td>\n",
       "      <td>0</td>\n",
       "      <td>1</td>\n",
       "      <td>0</td>\n",
       "      <td>0</td>\n",
       "      <td>0</td>\n",
       "      <td>0</td>\n",
       "    </tr>\n",
       "  </tbody>\n",
       "</table>\n",
       "<p>442008 rows × 89 columns</p>\n",
       "</div>"
      ],
      "text/plain": [
       "         Income  Age  Experience  marraige  House_Ownership  Car_Ownership  \\\n",
       "0       1303834   23           3         1                2              0   \n",
       "1       7574516   40          10         1                2              0   \n",
       "2       3991815   66           4         0                2              0   \n",
       "5       6915937   64           0         1                2              0   \n",
       "6       3954973   58          14         0                2              0   \n",
       "...         ...  ...         ...       ...              ...            ...   \n",
       "48978   5628436   48          13         1                2              0   \n",
       "243845  4294400   57           4         1                2              0   \n",
       "167333  6868118   25          16         1                2              0   \n",
       "216578  3524284   35           8         1                2              0   \n",
       "156771  6715263   29           0         1                2              0   \n",
       "\n",
       "        CURRENT_JOB_YRS  CURRENT_HOUSE_YRS  Agra  Bareilly  ...  Scientist  \\\n",
       "0                     3                 13     0         0  ...          0   \n",
       "1                     9                 13     0         0  ...          0   \n",
       "2                     4                 10     0         0  ...          0   \n",
       "5                     0                 12     0         0  ...          0   \n",
       "6                     8                 12     0         0  ...          0   \n",
       "...                 ...                ...   ...       ...  ...        ...   \n",
       "48978                10                 10     0         0  ...          0   \n",
       "243845                3                 12     0         0  ...          0   \n",
       "167333               13                 13     0         0  ...          0   \n",
       "216578                8                 10     0         0  ...          0   \n",
       "156771                0                 11     0         0  ...          0   \n",
       "\n",
       "        Secretary  Software_Developer  Statistician  Surgeon  Surveyor  \\\n",
       "0               0                   0             0        0         0   \n",
       "1               0                   1             0        0         0   \n",
       "2               0                   0             0        0         0   \n",
       "5               0                   0             0        0         0   \n",
       "6               0                   0             0        0         0   \n",
       "...           ...                 ...           ...      ...       ...   \n",
       "48978           0                   0             0        0         0   \n",
       "243845          0                   0             0        0         0   \n",
       "167333          1                   0             0        0         0   \n",
       "216578          0                   0             0        0         0   \n",
       "156771          0                   0             0        0         1   \n",
       "\n",
       "        Technical_writer  Technician  Technology_specialist  Web_designer  \n",
       "0                      0           0                      0             0  \n",
       "1                      0           0                      0             0  \n",
       "2                      1           0                      0             0  \n",
       "5                      0           0                      0             0  \n",
       "6                      0           0                      0             0  \n",
       "...                  ...         ...                    ...           ...  \n",
       "48978                  0           0                      0             0  \n",
       "243845                 0           0                      0             0  \n",
       "167333                 0           0                      0             0  \n",
       "216578                 0           0                      1             0  \n",
       "156771                 0           0                      0             0  \n",
       "\n",
       "[442008 rows x 89 columns]"
      ]
     },
     "execution_count": 23,
     "metadata": {},
     "output_type": "execute_result"
    }
   ],
   "source": [
    "x=upsampled.drop(columns=['Risk_Flag'])\n",
    "x"
   ]
  },
  {
   "cell_type": "code",
   "execution_count": 24,
   "metadata": {
    "execution": {
     "iopub.execute_input": "2021-11-16T14:41:47.827729Z",
     "iopub.status.busy": "2021-11-16T14:41:47.827376Z",
     "iopub.status.idle": "2021-11-16T14:41:47.840897Z",
     "shell.execute_reply": "2021-11-16T14:41:47.839316Z",
     "shell.execute_reply.started": "2021-11-16T14:41:47.827681Z"
    }
   },
   "outputs": [],
   "source": [
    "y=upsampled.Risk_Flag\n"
   ]
  },
  {
   "cell_type": "code",
   "execution_count": 25,
   "metadata": {
    "execution": {
     "iopub.execute_input": "2021-11-16T14:41:47.843581Z",
     "iopub.status.busy": "2021-11-16T14:41:47.843336Z",
     "iopub.status.idle": "2021-11-16T14:41:48.552026Z",
     "shell.execute_reply": "2021-11-16T14:41:48.550858Z",
     "shell.execute_reply.started": "2021-11-16T14:41:47.843550Z"
    }
   },
   "outputs": [],
   "source": [
    "from sklearn.model_selection import train_test_split\n",
    "\n",
    "\n",
    "\n",
    "x_train, x_test, y_train, y_test = train_test_split(x,y, \n",
    "                                                    test_size = .25, random_state = 111)\n"
   ]
  },
  {
   "cell_type": "code",
   "execution_count": 26,
   "metadata": {
    "execution": {
     "iopub.execute_input": "2021-11-16T14:41:48.553907Z",
     "iopub.status.busy": "2021-11-16T14:41:48.553649Z",
     "iopub.status.idle": "2021-11-16T14:47:38.779001Z",
     "shell.execute_reply": "2021-11-16T14:47:38.777720Z",
     "shell.execute_reply.started": "2021-11-16T14:41:48.553875Z"
    }
   },
   "outputs": [],
   "source": [
    "\n",
    "from sklearn.ensemble import RandomForestClassifier\n",
    "RFC=RandomForestClassifier()\n",
    "model=RFC.fit(x_train,y_train)"
   ]
  },
  {
   "cell_type": "code",
   "execution_count": null,
   "metadata": {},
   "outputs": [],
   "source": []
  },
  {
   "cell_type": "code",
   "execution_count": 27,
   "metadata": {
    "execution": {
     "iopub.execute_input": "2021-11-16T14:47:38.780918Z",
     "iopub.status.busy": "2021-11-16T14:47:38.780638Z",
     "iopub.status.idle": "2021-11-16T14:47:47.880430Z",
     "shell.execute_reply": "2021-11-16T14:47:47.879200Z",
     "shell.execute_reply.started": "2021-11-16T14:47:38.780886Z"
    }
   },
   "outputs": [
    {
     "name": "stdout",
     "output_type": "stream",
     "text": [
      "\n",
      "Classification report:\n",
      "               precision    recall  f1-score   support\n",
      "\n",
      "           0       1.00      0.91      0.95     55289\n",
      "           1       0.92      1.00      0.96     55213\n",
      "\n",
      "    accuracy                           0.95    110502\n",
      "   macro avg       0.96      0.95      0.95    110502\n",
      "weighted avg       0.96      0.95      0.95    110502\n",
      "\n"
     ]
    }
   ],
   "source": [
    "from sklearn.metrics import confusion_matrix,classification_report,plot_confusion_matrix\n",
    "predictions = model.predict(x_test)\n",
    "\n",
    "print(\"\\nClassification report:\\n\", classification_report(y_test, predictions))"
   ]
  },
  {
   "cell_type": "code",
   "execution_count": 28,
   "metadata": {},
   "outputs": [
    {
     "data": {
      "text/plain": [
       "<sklearn.metrics._plot.confusion_matrix.ConfusionMatrixDisplay at 0x1deb0c4de50>"
      ]
     },
     "execution_count": 28,
     "metadata": {},
     "output_type": "execute_result"
    },
    {
     "data": {
      "image/png": "[encoded data removed]",
      "text/plain": [
       "<Figure size 432x288 with 2 Axes>"
      ]
     },
     "metadata": {
      "needs_background": "light"
     },
     "output_type": "display_data"
    }
   ],
   "source": [
    "plot_confusion_matrix(model, x_test, y_test)  \n"
   ]
  },
  {
   "cell_type": "code",
   "execution_count": 29,
   "metadata": {},
   "outputs": [],
   "source": [
    "df_c = X.columns"
   ]
  },
  {
   "cell_type": "code",
   "execution_count": 30,
   "metadata": {},
   "outputs": [
    {
     "name": "stdout",
     "output_type": "stream",
     "text": [
      "         Income  Age  Experience  marraige  House_Ownership  Car_Ownership  \\\n",
      "233369  3119882   56          10         1                2              1   \n",
      "\n",
      "        CURRENT_JOB_YRS  CURRENT_HOUSE_YRS  Agra  Bareilly  ...  Scientist  \\\n",
      "233369               10                 14     0         0  ...          0   \n",
      "\n",
      "        Secretary  Software_Developer  Statistician  Surgeon  Surveyor  \\\n",
      "233369          1                   0             0        0         0   \n",
      "\n",
      "        Technical_writer  Technician  Technology_specialist  Web_designer  \n",
      "233369                 0           0                      0             0  \n",
      "\n",
      "[1 rows x 89 columns]\n",
      "[1]\n"
     ]
    }
   ],
   "source": [
    "print(x_test[5:6])\n",
    "a = model.predict(x_test[5:6])\n",
    "print(a)\n",
    "\n",
    "df_test = x_test[5:6]"
   ]
  },
  {
   "cell_type": "code",
   "execution_count": 31,
   "metadata": {},
   "outputs": [],
   "source": [
    "import pickle\n",
    "pickle.dump(model, open('model.sav', 'wb'))"
   ]
  },
  {
   "cell_type": "code",
   "execution_count": 32,
   "metadata": {},
   "outputs": [],
   "source": [
    "Model = pickle.load(open(r\"model.sav\", \"rb\"))"
   ]
  },
  {
   "cell_type": "code",
   "execution_count": 33,
   "metadata": {},
   "outputs": [
    {
     "name": "stdout",
     "output_type": "stream",
     "text": [
      "        0   1   2   3   4   5   6   7   8   9   ...  79  80  81  82  83  84  \\\n",
      "0  3122882  56  10   1   2   1  10  14   0   0  ...   0   1   0   0   0   0   \n",
      "\n",
      "   85  86  87  88  \n",
      "0   0   0   0   0  \n",
      "\n",
      "[1 rows x 89 columns]\n",
      "ans 1\n"
     ]
    },
    {
     "data": {
      "text/plain": [
       "1"
      ]
     },
     "execution_count": 33,
     "metadata": {},
     "output_type": "execute_result"
    }
   ],
   "source": [
    "import numpy\n",
    "def predict_price(Income,Age,Experience,marraige,House_Ownership,Car_Ownership,CURRENT_JOB_YRS,CURRENT_HOUSE_YRS,CITY,Profession,model):\n",
    "    \n",
    "    \n",
    "    \n",
    "    prof_index = np.where(X.columns == Profession)[0][0]\n",
    "    loc_index = np.where(X.columns == CITY)[0][0]\n",
    "    \n",
    "    \n",
    "    x = np.zeros(len(X.columns))\n",
    "    \n",
    "    x[0] = int(Income)\n",
    "    x[1] = int(Age)\n",
    "    x[2] = int(Experience)\n",
    "    x[3] = int(marraige)\n",
    "    x[4] = int(House_Ownership)\n",
    "    x[5] = int(Car_Ownership)\n",
    "    x[6] = int(CURRENT_JOB_YRS)\n",
    "    x[7] = int(CURRENT_HOUSE_YRS)\n",
    " \n",
    "    if loc_index >= 0:\n",
    "        x[loc_index] = 1\n",
    "    if prof_index >= 0:\n",
    "        x[prof_index] = 1\n",
    "    x=x.reshape(1,-1)\n",
    "    df = pd.DataFrame(x)\n",
    "    df=df.astype(int)\n",
    "    print(df)\n",
    "    ans = model.predict(df)[0]\n",
    "    print(\"ans\",ans)\n",
    "    return ans\n",
    "\n",
    "predict_price(3122882,56,10,1,2,1,10,14,'Bhopal','Secretary',Model)"
   ]
  },
  {
   "cell_type": "code",
   "execution_count": 34,
   "metadata": {},
   "outputs": [],
   "source": [
    "X = X[:0]"
   ]
  },
  {
   "cell_type": "code",
   "execution_count": 35,
   "metadata": {},
   "outputs": [],
   "source": [
    "df_test.to_csv('Xt.csv')"
   ]
  },
  {
   "cell_type": "code",
   "execution_count": 36,
   "metadata": {},
   "outputs": [],
   "source": [
    "X=pd.read_csv('X.csv')\n",
    "\n",
    "X = X.drop(columns=['Unnamed: 0'])"
   ]
  },
  {
   "cell_type": "code",
   "execution_count": 37,
   "metadata": {},
   "outputs": [
    {
     "data": {
      "text/html": [
       "<div>\n",
       "<style scoped>\n",
       "    .dataframe tbody tr th:only-of-type {\n",
       "        vertical-align: middle;\n",
       "    }\n",
       "\n",
       "    .dataframe tbody tr th {\n",
       "        vertical-align: top;\n",
       "    }\n",
       "\n",
       "    .dataframe thead th {\n",
       "        text-align: right;\n",
       "    }\n",
       "</style>\n",
       "<table border=\"1\" class=\"dataframe\">\n",
       "  <thead>\n",
       "    <tr style=\"text-align: right;\">\n",
       "      <th></th>\n",
       "      <th>Income</th>\n",
       "      <th>Age</th>\n",
       "      <th>Experience</th>\n",
       "      <th>marraige</th>\n",
       "      <th>House_Ownership</th>\n",
       "      <th>Car_Ownership</th>\n",
       "      <th>CURRENT_JOB_YRS</th>\n",
       "      <th>CURRENT_HOUSE_YRS</th>\n",
       "      <th>Agra</th>\n",
       "      <th>Bareilly</th>\n",
       "      <th>...</th>\n",
       "      <th>Scientist</th>\n",
       "      <th>Secretary</th>\n",
       "      <th>Software_Developer</th>\n",
       "      <th>Statistician</th>\n",
       "      <th>Surgeon</th>\n",
       "      <th>Surveyor</th>\n",
       "      <th>Technical_writer</th>\n",
       "      <th>Technician</th>\n",
       "      <th>Technology_specialist</th>\n",
       "      <th>Web_designer</th>\n",
       "    </tr>\n",
       "  </thead>\n",
       "  <tbody>\n",
       "  </tbody>\n",
       "</table>\n",
       "<p>0 rows × 89 columns</p>\n",
       "</div>"
      ],
      "text/plain": [
       "Empty DataFrame\n",
       "Columns: [Income, Age, Experience, marraige, House_Ownership, Car_Ownership, CURRENT_JOB_YRS, CURRENT_HOUSE_YRS, Agra, Bareilly, Bellary, Bhopal, Bidhannagar, Bulandshahr, Danapur, Erode[17], Giridih, Hajipur[31], Haridwar, Hospet, Howrah, Indore, Jodhpur, Jorhat, Khammam, Kolkata, Mango, Navi_Mumbai, New_Delhi, Ongole, Saharsa[29], Satara, Satna, Srinagar, Thanjavur, Vijayanagaram, Vijayawada, other, Air_traffic_controller, Analyst, Architect, Army_officer, Artist, Aviator, Biomedical_Engineer, Chartered_Accountant, Chef, Chemical_engineer, Civil_engineer, Civil_servant, Comedian, Computer_hardware_engineer, Computer_operator, Consultant, Dentist, Design_Engineer, Designer, Drafter, Economist, Engineer, Fashion_Designer, Financial_Analyst, Firefighter, Flight_attendant, Geologist, Graphic_Designer, Hotel_Manager, Industrial_Engineer, Lawyer, Librarian, Magistrate, Mechanical_engineer, Microbiologist, Official, Petroleum_Engineer, Physician, Police_officer, Politician, Psychologist, Scientist, Secretary, Software_Developer, Statistician, Surgeon, Surveyor, Technical_writer, Technician, Technology_specialist, Web_designer]\n",
       "Index: []\n",
       "\n",
       "[0 rows x 89 columns]"
      ]
     },
     "execution_count": 37,
     "metadata": {},
     "output_type": "execute_result"
    }
   ],
   "source": [
    "X"
   ]
  },
  {
   "cell_type": "code",
   "execution_count": 38,
   "metadata": {},
   "outputs": [],
   "source": [
    "i= np.zeros(len(X.columns))"
   ]
  },
  {
   "cell_type": "code",
   "execution_count": 39,
   "metadata": {},
   "outputs": [
    {
     "data": {
      "text/plain": [
       "array([0., 0., 0., 0., 0., 0., 0., 0., 0., 0., 0., 0., 0., 0., 0., 0., 0.,\n",
       "       0., 0., 0., 0., 0., 0., 0., 0., 0., 0., 0., 0., 0., 0., 0., 0., 0.,\n",
       "       0., 0., 0., 0., 0., 0., 0., 0., 0., 0., 0., 0., 0., 0., 0., 0., 0.,\n",
       "       0., 0., 0., 0., 0., 0., 0., 0., 0., 0., 0., 0., 0., 0., 0., 0., 0.,\n",
       "       0., 0., 0., 0., 0., 0., 0., 0., 0., 0., 0., 0., 0., 0., 0., 0., 0.,\n",
       "       0., 0., 0., 0.])"
      ]
     },
     "execution_count": 39,
     "metadata": {},
     "output_type": "execute_result"
    }
   ],
   "source": [
    "i"
   ]
  },
  {
   "cell_type": "code",
   "execution_count": 40,
   "metadata": {},
   "outputs": [],
   "source": [
    "from sklearn.ensemble import GradientBoostingClassifier\n",
    "GBC = GradientBoostingClassifier()"
   ]
  },
  {
   "cell_type": "code",
   "execution_count": 41,
   "metadata": {},
   "outputs": [],
   "source": [
    "modelGBC = GBC.fit(x_train, y_train)"
   ]
  },
  {
   "cell_type": "code",
   "execution_count": 42,
   "metadata": {},
   "outputs": [],
   "source": [
    "y_pred = modelGBC.predict(x_test)"
   ]
  },
  {
   "cell_type": "code",
   "execution_count": null,
   "metadata": {},
   "outputs": [],
   "source": []
  },
  {
   "cell_type": "code",
   "execution_count": 43,
   "metadata": {},
   "outputs": [
    {
     "name": "stdout",
     "output_type": "stream",
     "text": [
      "\n",
      "Classification report:\n",
      "               precision    recall  f1-score   support\n",
      "\n",
      "           0       0.60      0.61      0.61     55289\n",
      "           1       0.60      0.59      0.59     55213\n",
      "\n",
      "    accuracy                           0.60    110502\n",
      "   macro avg       0.60      0.60      0.60    110502\n",
      "weighted avg       0.60      0.60      0.60    110502\n",
      "\n"
     ]
    }
   ],
   "source": [
    "from sklearn.metrics import confusion_matrix,classification_report,plot_confusion_matrix\n",
    "\n",
    "print(\"\\nClassification report:\\n\", classification_report(y_test, y_pred))"
   ]
  },
  {
   "cell_type": "code",
   "execution_count": 44,
   "metadata": {},
   "outputs": [
    {
     "data": {
      "text/plain": [
       "<sklearn.metrics._plot.confusion_matrix.ConfusionMatrixDisplay at 0x1dec469eb80>"
      ]
     },
     "execution_count": 44,
     "metadata": {},
     "output_type": "execute_result"
    },
    {
     "data": {
      "image/png": "[encoded data removed]",
      "text/plain": [
       "<Figure size 432x288 with 2 Axes>"
      ]
     },
     "metadata": {
      "needs_background": "light"
     },
     "output_type": "display_data"
    }
   ],
   "source": [
    "plot_confusion_matrix(modelGBC, x_test, y_pred)  \n"
   ]
  },
  {
   "cell_type": "code",
   "execution_count": 45,
   "metadata": {},
   "outputs": [],
   "source": [
    "from sklearn.neighbors import KNeighborsClassifier\n",
    "KNC = KNeighborsClassifier()\n",
    "KNCmodel = KNC.fit(x_train, y_train)"
   ]
  },
  {
   "cell_type": "code",
   "execution_count": 46,
   "metadata": {},
   "outputs": [],
   "source": [
    "y_pred1 = KNCmodel.predict(x_test)"
   ]
  },
  {
   "cell_type": "code",
   "execution_count": 47,
   "metadata": {},
   "outputs": [
    {
     "name": "stdout",
     "output_type": "stream",
     "text": [
      "\n",
      "Classification report:\n",
      "               precision    recall  f1-score   support\n",
      "\n",
      "           0       0.98      0.86      0.91     55289\n",
      "           1       0.87      0.98      0.92     55213\n",
      "\n",
      "    accuracy                           0.92    110502\n",
      "   macro avg       0.93      0.92      0.92    110502\n",
      "weighted avg       0.93      0.92      0.92    110502\n",
      "\n"
     ]
    }
   ],
   "source": [
    "from sklearn.metrics import confusion_matrix,classification_report\n",
    "\n",
    "print(\"\\nClassification report:\\n\", classification_report(y_test, y_pred1))"
   ]
  },
  {
   "cell_type": "code",
   "execution_count": null,
   "metadata": {},
   "outputs": [],
   "source": []
  }
 ],
 "metadata": {
  "kernelspec": {
   "display_name": "Python 3 (ipykernel)",
   "language": "python",
   "name": "python3"
  },
  "language_info": {
   "codemirror_mode": {
    "name": "ipython",
    "version": 3
   },
   "file_extension": ".py",
   "mimetype": "text/x-python",
   "name": "python",
   "nbconvert_exporter": "python",
   "pygments_lexer": "ipython3",
   "version": "3.9.7"
  }
 },
 "nbformat": 4,
 "nbformat_minor": 4
}
